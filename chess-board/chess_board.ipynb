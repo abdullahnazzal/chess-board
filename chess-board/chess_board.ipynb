{
 "cells": [
  {
   "cell_type": "code",
   "execution_count": 215,
   "metadata": {},
   "outputs": [],
   "source": [
    "%matplotlib inline\n",
    "import numpy as np\n",
    "import matplotlib.pyplot as plt"
   ]
  },
  {
   "cell_type": "code",
   "execution_count": 216,
   "metadata": {},
   "outputs": [],
   "source": [
    "class ChessBoard:\n",
    "    \"\"\"\n",
    "    Define a ChessBoard class - should contain an 8x8 grid - Each cell in grid should have a color represented in RGB format. - black = (0,0,0) - white = (1,1,1) - blue = (0,1,1) - red = (1,.2,0)\n",
    "\n",
    "    \"\"\"\n",
    "\n",
    "    def __init__(self):\n",
    "        self.red = (1, 0.2, 0)\n",
    "        self.blue = (0, 1, 1)\n",
    "        self.white = (1, 1, 1)\n",
    "        self.grid = np.zeros((8, 8, 3))\n",
    "        for row in range(8):\n",
    "            for col in range(8):\n",
    "                if (not col % 2 and not row % 2) or (col % 2 and row % 2):\n",
    "                    self.grid[row, col] = self.white\n",
    "\n",
    "    def add_red(self, col, row):\n",
    "        \"\"\"\n",
    "        method that accepts a row and column as input which colors(red) corresponding cell.\n",
    "        \"\"\"\n",
    "        self.grid[col][row] = self.red\n",
    "\n",
    "    def add_blue(self, col, row):\n",
    "        \"\"\"\n",
    "        method that accepts a row and column as input which colors(blue) corresponding cell.\n",
    "        \"\"\"\n",
    "        self.grid[col][row] = self.blue\n",
    "\n",
    "    def is_under_attack(self, x1, y1, x2, y2):\n",
    "        \"\"\"\n",
    "        method that return boolean if red is under attack by a blue piece horizontally, vertically or diagonally\n",
    "        \"\"\"\n",
    "        dx = abs(x1 - x2)\n",
    "        dy = abs(y1 - y2)\n",
    "        if dx == dy or x1 == x2 or y1 == y2:\n",
    "            print(\"the Red Queen is under attack by the blue Queen\")\n",
    "            return True\n",
    "        else:\n",
    "            print(\"The Red Queen is not under attack\")\n",
    "            return False\n",
    "\n",
    "    def render(self):\n",
    "        \"\"\"\n",
    "        method that displays the chess board on screen with red and blue shown in correct locations\n",
    "        \"\"\"\n",
    "        plt.imshow(self.grid)\n"
   ]
  },
  {
   "cell_type": "code",
   "execution_count": 217,
   "metadata": {},
   "outputs": [
    {
     "name": "stdout",
     "output_type": "stream",
     "text": [
      "the Red Queen is under attack by the blue Queen\n"
     ]
    },
    {
     "data": {
      "image/png": "[encoded data removed]",
      "text/plain": [
       "<Figure size 432x288 with 1 Axes>"
      ]
     },
     "metadata": {
      "needs_background": "light"
     },
     "output_type": "display_data"
    }
   ],
   "source": [
    "def test_queens_on_same_row():\n",
    "    \"\"\"\n",
    "    queens on same row should be “under attack”\n",
    "    \"\"\"\n",
    "    chess = ChessBoard()\n",
    "    chess.add_red(1, 3)\n",
    "    chess.add_blue(1, 5)\n",
    "    chess.render()\n",
    "    actual = chess.is_under_attack(1, 3, 1, 5)\n",
    "    expected = True\n",
    "\n",
    "    assert actual == expected\n",
    "\n",
    "\n",
    "test_queens_on_same_row()\n"
   ]
  },
  {
   "cell_type": "code",
   "execution_count": 218,
   "metadata": {},
   "outputs": [
    {
     "name": "stdout",
     "output_type": "stream",
     "text": [
      "the Red Queen is under attack by the blue Queen\n"
     ]
    },
    {
     "data": {
      "image/png": "[encoded data removed]",
      "text/plain": [
       "<Figure size 432x288 with 1 Axes>"
      ]
     },
     "metadata": {
      "needs_background": "light"
     },
     "output_type": "display_data"
    }
   ],
   "source": [
    "def test_queens_on_same_column():\n",
    "    \"\"\"\n",
    "    queens on same column should be “under attack”\n",
    "    \"\"\"\n",
    "    chess = ChessBoard()\n",
    "    chess.add_red(1, 3)\n",
    "    chess.add_blue(4, 3)\n",
    "    chess.render()\n",
    "    actual = chess.is_under_attack(1, 3, 4, 3)\n",
    "    expected = True\n",
    "\n",
    "    assert actual == expected\n",
    "\n",
    "\n",
    "test_queens_on_same_column()\n"
   ]
  },
  {
   "cell_type": "code",
   "execution_count": 219,
   "metadata": {},
   "outputs": [
    {
     "name": "stdout",
     "output_type": "stream",
     "text": [
      "the Red Queen is under attack by the blue Queen\n"
     ]
    },
    {
     "data": {
      "image/png": "[encoded data removed]",
      "text/plain": [
       "<Figure size 432x288 with 1 Axes>"
      ]
     },
     "metadata": {
      "needs_background": "light"
     },
     "output_type": "display_data"
    }
   ],
   "source": [
    "def test_queens_on_same_diagonal():\n",
    "    \"\"\"\n",
    "    queens on same diagonal should be “under attack\n",
    "    \"\"\"\n",
    "    chess = ChessBoard()\n",
    "    chess.add_red(1, 3)\n",
    "    chess.add_blue(3, 5)\n",
    "    chess.render()\n",
    "    actual = chess.is_under_attack(1, 3, 3, 5)\n",
    "    expected = True\n",
    "\n",
    "    assert actual == expected\n",
    "\n",
    "\n",
    "test_queens_on_same_diagonal()\n"
   ]
  },
  {
   "cell_type": "code",
   "execution_count": 220,
   "metadata": {},
   "outputs": [
    {
     "name": "stdout",
     "output_type": "stream",
     "text": [
      "The Red Queen is not under attack\n"
     ]
    },
    {
     "data": {
      "image/png": "[encoded data removed]",
      "text/plain": [
       "<Figure size 432x288 with 1 Axes>"
      ]
     },
     "metadata": {
      "needs_background": "light"
     },
     "output_type": "display_data"
    }
   ],
   "source": [
    "def test_queens_not_under_attack():\n",
    "    \"\"\"\n",
    "    queens with any other coordinates should NOT be “under attack”\n",
    "    \"\"\"\n",
    "    chess = ChessBoard()\n",
    "    chess.add_red(1, 4)\n",
    "    chess.add_blue(3, 5)\n",
    "    chess.render()\n",
    "    actual = chess.is_under_attack(1, 4, 3, 5)\n",
    "    expected = False\n",
    "\n",
    "    assert actual == expected\n",
    "\n",
    "\n",
    "test_queens_not_under_attack()\n"
   ]
  }
 ],
 "metadata": {
  "interpreter": {
   "hash": "3ddbd4ae734255c1b9fcefa1677ffa9b04cb30966db0ce096cfaf4b0680d6ac5"
  },
  "kernelspec": {
   "display_name": "Python 3.9.5 64-bit ('.venv': poetry)",
   "name": "python3"
  },
  "language_info": {
   "codemirror_mode": {
    "name": "ipython",
    "version": 3
   },
   "file_extension": ".py",
   "mimetype": "text/x-python",
   "name": "python",
   "nbconvert_exporter": "python",
   "pygments_lexer": "ipython3",
   "version": "3.9.5"
  },
  "orig_nbformat": 4
 },
 "nbformat": 4,
 "nbformat_minor": 2
}
